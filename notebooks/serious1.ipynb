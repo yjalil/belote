{
 "cells": [
  {
   "cell_type": "code",
   "execution_count": 1,
   "metadata": {},
   "outputs": [],
   "source": [
    "%load_ext autoreload\n",
    "%autoreload 2\n"
   ]
  },
  {
   "cell_type": "code",
   "execution_count": 2,
   "metadata": {},
   "outputs": [
    {
     "name": "stderr",
     "output_type": "stream",
     "text": [
      "2024-03-03 11:57:02.026450: I tensorflow/core/util/port.cc:113] oneDNN custom operations are on. You may see slightly different numerical results due to floating-point round-off errors from different computation orders. To turn them off, set the environment variable `TF_ENABLE_ONEDNN_OPTS=0`.\n",
      "2024-03-03 11:57:02.066765: E external/local_xla/xla/stream_executor/cuda/cuda_dnn.cc:9261] Unable to register cuDNN factory: Attempting to register factory for plugin cuDNN when one has already been registered\n",
      "2024-03-03 11:57:02.066798: E external/local_xla/xla/stream_executor/cuda/cuda_fft.cc:607] Unable to register cuFFT factory: Attempting to register factory for plugin cuFFT when one has already been registered\n",
      "2024-03-03 11:57:02.067845: E external/local_xla/xla/stream_executor/cuda/cuda_blas.cc:1515] Unable to register cuBLAS factory: Attempting to register factory for plugin cuBLAS when one has already been registered\n",
      "2024-03-03 11:57:02.075011: I tensorflow/core/platform/cpu_feature_guard.cc:182] This TensorFlow binary is optimized to use available CPU instructions in performance-critical operations.\n",
      "To enable the following instructions: AVX2 AVX512F AVX512_VNNI FMA, in other operations, rebuild TensorFlow with the appropriate compiler flags.\n",
      "2024-03-03 11:57:03.257452: W tensorflow/compiler/tf2tensorrt/utils/py_utils.cc:38] TF-TRT Warning: Could not find TensorRT\n",
      "2024-03-03 11:57:05.536061: I external/local_xla/xla/stream_executor/cuda/cuda_executor.cc:887] could not open file to read NUMA node: /sys/bus/pci/devices/0000:01:00.0/numa_node\n",
      "Your kernel may have been built without NUMA support.\n",
      "2024-03-03 11:57:05.580374: I external/local_xla/xla/stream_executor/cuda/cuda_executor.cc:887] could not open file to read NUMA node: /sys/bus/pci/devices/0000:01:00.0/numa_node\n",
      "Your kernel may have been built without NUMA support.\n",
      "2024-03-03 11:57:05.580410: I external/local_xla/xla/stream_executor/cuda/cuda_executor.cc:887] could not open file to read NUMA node: /sys/bus/pci/devices/0000:01:00.0/numa_node\n",
      "Your kernel may have been built without NUMA support.\n"
     ]
    },
    {
     "data": {
      "text/plain": [
       "[PhysicalDevice(name='/physical_device:GPU:0', device_type='GPU')]"
      ]
     },
     "execution_count": 2,
     "metadata": {},
     "output_type": "execute_result"
    }
   ],
   "source": [
    "import tensorflow as tf\n",
    "tf.config.list_physical_devices('GPU')"
   ]
  },
  {
   "cell_type": "code",
   "execution_count": 3,
   "metadata": {},
   "outputs": [],
   "source": [
    "\n",
    "import numpy as np\n",
    "import pandas as pd\n",
    "import cv2\n",
    "import os\n",
    "from pathlib import Path\n",
    "from PIL import Image\n",
    "import matplotlib.pyplot as plt\n",
    "from matplotlib.pyplot import imread, imshow, subplots, show\n",
    "%matplotlib inline"
   ]
  },
  {
   "cell_type": "code",
   "execution_count": 4,
   "metadata": {},
   "outputs": [],
   "source": [
    "# Params\n",
    "from dataclasses import dataclass\n",
    "\n",
    "@dataclass\n",
    "class Params :\n",
    "    TRAIN_FOLDER_PATH : str = '../data/train'\n",
    "    TEST_FOLDER_PATH : str = '../data/test'\n",
    "    BATCH_SIZE : int = 32\n",
    "    INPUT_HEIGHT : int = 120\n",
    "    INPUT_WIDTH : int = 100\n",
    "    CLASSES : int = 32\n",
    "    EPOCHS : int = 200"
   ]
  },
  {
   "cell_type": "markdown",
   "metadata": {},
   "source": [
    "# Reset Test folder"
   ]
  },
  {
   "cell_type": "code",
   "execution_count": 5,
   "metadata": {},
   "outputs": [],
   "source": [
    "from helpers import destroy_test_dir"
   ]
  },
  {
   "cell_type": "code",
   "execution_count": 6,
   "metadata": {},
   "outputs": [
    {
     "name": "stdout",
     "output_type": "stream",
     "text": [
      "../data/test/k7el_rey/20240226_183858.jpg => ../data/train/k7el_rey/20240226_183858.jpg\n",
      "../data/test/k7el_rey/20240226_183608.jpg => ../data/train/k7el_rey/20240226_183608.jpg\n",
      "../data/test/k7el_rey/20240226_183919.jpg => ../data/train/k7el_rey/20240226_183919.jpg\n",
      "../data/test/k7el_rey/20240226_184010.jpg => ../data/train/k7el_rey/20240226_184010.jpg\n",
      "../data/test/k7el_rey/20240226_183118.jpg => ../data/train/k7el_rey/20240226_183118.jpg\n",
      "../data/test/k7el_rey/20240226_183604.jpg => ../data/train/k7el_rey/20240226_183604.jpg\n",
      "../data/test/k7el_rey/20240226_183357.jpg => ../data/train/k7el_rey/20240226_183357.jpg\n",
      "../data/test/k7el_rey/20240226_183135.jpg => ../data/train/k7el_rey/20240226_183135.jpg\n",
      "../data/test/k7el_rey/20240226_183521.jpg => ../data/train/k7el_rey/20240226_183521.jpg\n",
      "../data/test/k7el_rey/20240226_183912.jpg => ../data/train/k7el_rey/20240226_183912.jpg\n",
      "../data/test/copas_las/IMG_20240226_121814.jpg => ../data/train/copas_las/IMG_20240226_121814.jpg\n",
      "../data/test/copas_las/IMG_20240226_112344.jpg => ../data/train/copas_las/IMG_20240226_112344.jpg\n",
      "../data/test/copas_las/IMG_20240226_112339.jpg => ../data/train/copas_las/IMG_20240226_112339.jpg\n",
      "../data/test/copas_las/IMG_20240226_112127.jpg => ../data/train/copas_las/IMG_20240226_112127.jpg\n",
      "../data/test/copas_las/IMG_20240226_112145.jpg => ../data/train/copas_las/IMG_20240226_112145.jpg\n",
      "../data/test/copas_las/IMG_20240226_112330.jpg => ../data/train/copas_las/IMG_20240226_112330.jpg\n",
      "../data/test/copas_las/IMG_20240226_112519.jpg => ../data/train/copas_las/IMG_20240226_112519.jpg\n",
      "../data/test/copas_las/IMG_20240226_112410.jpg => ../data/train/copas_las/IMG_20240226_112410.jpg\n",
      "../data/test/copas_las/20240228_121432.jpg => ../data/train/copas_las/20240228_121432.jpg\n",
      "../data/test/copas_las/IMG_20240226_112333.jpg => ../data/train/copas_las/IMG_20240226_112333.jpg\n",
      "../data/test/dheb_5/20240226_133556.jpg => ../data/train/dheb_5/20240226_133556.jpg\n",
      "../data/test/dheb_5/20240226_133547.jpg => ../data/train/dheb_5/20240226_133547.jpg\n",
      "../data/test/dheb_5/20240226_125920.jpg => ../data/train/dheb_5/20240226_125920.jpg\n",
      "../data/test/dheb_5/20240226_125912.jpg => ../data/train/dheb_5/20240226_125912.jpg\n",
      "../data/test/dheb_5/20240226_125319.jpg => ../data/train/dheb_5/20240226_125319.jpg\n",
      "../data/test/dheb_5/20240226_133553.jpg => ../data/train/dheb_5/20240226_133553.jpg\n",
      "../data/test/dheb_5/20240226_125948.jpg => ../data/train/dheb_5/20240226_125948.jpg\n",
      "../data/test/dheb_5/20240226_125606.jpg => ../data/train/dheb_5/20240226_125606.jpg\n",
      "../data/test/dheb_5/20240226_125952.jpg => ../data/train/dheb_5/20240226_125952.jpg\n",
      "../data/test/dheb_5/20240226_133544.jpg => ../data/train/dheb_5/20240226_133544.jpg\n",
      "../data/test/chbada_dix/IMG_20240226_160746.jpg => ../data/train/chbada_dix/IMG_20240226_160746.jpg\n",
      "../data/test/chbada_dix/IMG_20240226_160139.jpg => ../data/train/chbada_dix/IMG_20240226_160139.jpg\n",
      "../data/test/chbada_dix/IMG_20240226_155553.jpg => ../data/train/chbada_dix/IMG_20240226_155553.jpg\n",
      "../data/test/chbada_dix/IMG_20240226_160642.jpg => ../data/train/chbada_dix/IMG_20240226_160642.jpg\n",
      "../data/test/chbada_dix/IMG_20240226_155934.jpg => ../data/train/chbada_dix/IMG_20240226_155934.jpg\n",
      "../data/test/chbada_dix/IMG_20240228_001651.jpg => ../data/train/chbada_dix/IMG_20240228_001651.jpg\n",
      "../data/test/chbada_dix/IMG_20240226_160104.jpg => ../data/train/chbada_dix/IMG_20240226_160104.jpg\n",
      "../data/test/chbada_dix/IMG_20240226_160111.jpg => ../data/train/chbada_dix/IMG_20240226_160111.jpg\n",
      "../data/test/chbada_dix/IMG_20240226_155845.jpg => ../data/train/chbada_dix/IMG_20240226_155845.jpg\n",
      "../data/test/chbada_dix/IMG_20240226_160614.jpg => ../data/train/chbada_dix/IMG_20240226_160614.jpg\n",
      "../data/test/k7el_cabal/IMG_20240227_120342.jpg => ../data/train/k7el_cabal/IMG_20240227_120342.jpg\n",
      "../data/test/k7el_cabal/IMG_20240227_120121.jpg => ../data/train/k7el_cabal/IMG_20240227_120121.jpg\n",
      "../data/test/k7el_cabal/IMG_20240227_120434.jpg => ../data/train/k7el_cabal/IMG_20240227_120434.jpg\n",
      "../data/test/k7el_cabal/IMG_20240227_120506.jpg => ../data/train/k7el_cabal/IMG_20240227_120506.jpg\n",
      "../data/test/k7el_cabal/IMG_20240227_115216.jpg => ../data/train/k7el_cabal/IMG_20240227_115216.jpg\n",
      "../data/test/k7el_cabal/IMG_20240227_120315.jpg => ../data/train/k7el_cabal/IMG_20240227_120315.jpg\n",
      "../data/test/k7el_cabal/IMG_20240227_115226.jpg => ../data/train/k7el_cabal/IMG_20240227_115226.jpg\n",
      "../data/test/k7el_cabal/IMG_20240227_120325.jpg => ../data/train/k7el_cabal/IMG_20240227_120325.jpg\n",
      "../data/test/k7el_cabal/IMG_20240227_120404.jpg => ../data/train/k7el_cabal/IMG_20240227_120404.jpg\n",
      "../data/test/k7el_cabal/IMG_20240227_120333.jpg => ../data/train/k7el_cabal/IMG_20240227_120333.jpg\n",
      "../data/test/dheb_rey/20240226_172754.jpg => ../data/train/dheb_rey/20240226_172754.jpg\n",
      "../data/test/dheb_rey/20240226_173345.jpg => ../data/train/dheb_rey/20240226_173345.jpg\n",
      "../data/test/dheb_rey/20240226_174032.jpg => ../data/train/dheb_rey/20240226_174032.jpg\n",
      "../data/test/dheb_rey/20240226_174035.jpg => ../data/train/dheb_rey/20240226_174035.jpg\n",
      "../data/test/dheb_rey/20240226_174116.jpg => ../data/train/dheb_rey/20240226_174116.jpg\n",
      "../data/test/dheb_rey/20240226_173759.jpg => ../data/train/dheb_rey/20240226_173759.jpg\n",
      "../data/test/dheb_rey/20240226_173939.jpg => ../data/train/dheb_rey/20240226_173939.jpg\n",
      "../data/test/dheb_rey/20240226_174135.jpg => ../data/train/dheb_rey/20240226_174135.jpg\n",
      "../data/test/dheb_rey/20240226_174054.jpg => ../data/train/dheb_rey/20240226_174054.jpg\n",
      "../data/test/dheb_rey/20240226_172759.jpg => ../data/train/dheb_rey/20240226_172759.jpg\n",
      "../data/test/dheb_sota/20240226_160929.jpg => ../data/train/dheb_sota/20240226_160929.jpg\n",
      "../data/test/dheb_sota/20240226_161718.jpg => ../data/train/dheb_sota/20240226_161718.jpg\n",
      "../data/test/dheb_sota/20240226_162301.jpg => ../data/train/dheb_sota/20240226_162301.jpg\n",
      "../data/test/dheb_sota/20240226_161605.jpg => ../data/train/dheb_sota/20240226_161605.jpg\n",
      "../data/test/dheb_sota/20240226_162341.jpg => ../data/train/dheb_sota/20240226_162341.jpg\n",
      "../data/test/dheb_sota/20240226_161518.jpg => ../data/train/dheb_sota/20240226_161518.jpg\n",
      "../data/test/dheb_sota/20240226_161130.jpg => ../data/train/dheb_sota/20240226_161130.jpg\n",
      "../data/test/dheb_sota/20240226_160922.jpg => ../data/train/dheb_sota/20240226_160922.jpg\n",
      "../data/test/dheb_sota/20240226_161609.jpg => ../data/train/dheb_sota/20240226_161609.jpg\n",
      "../data/test/dheb_sota/20240226_161122.jpg => ../data/train/dheb_sota/20240226_161122.jpg\n",
      "../data/test/chbada_las/IMG_20240226_112715.jpg => ../data/train/chbada_las/IMG_20240226_112715.jpg\n",
      "../data/test/chbada_las/IMG_20240226_113853.jpg => ../data/train/chbada_las/IMG_20240226_113853.jpg\n",
      "../data/test/chbada_las/IMG_20240226_113402.jpg => ../data/train/chbada_las/IMG_20240226_113402.jpg\n",
      "../data/test/chbada_las/IMG_20240226_112408.jpg => ../data/train/chbada_las/IMG_20240226_112408.jpg\n",
      "../data/test/chbada_las/IMG_20240226_112319.jpg => ../data/train/chbada_las/IMG_20240226_112319.jpg\n",
      "../data/test/chbada_las/IMG_20240226_113857.jpg => ../data/train/chbada_las/IMG_20240226_113857.jpg\n",
      "../data/test/chbada_las/IMG_20240226_113951.jpg => ../data/train/chbada_las/IMG_20240226_113951.jpg\n",
      "../data/test/chbada_las/IMG_20240226_112842.jpg => ../data/train/chbada_las/IMG_20240226_112842.jpg\n",
      "../data/test/chbada_las/IMG_20240226_113114.jpg => ../data/train/chbada_las/IMG_20240226_113114.jpg\n",
      "../data/test/chbada_las/IMG_20240226_112849.jpg => ../data/train/chbada_las/IMG_20240226_112849.jpg\n",
      "../data/test/k7el_las/20240226_180613.jpg => ../data/train/k7el_las/20240226_180613.jpg\n",
      "../data/test/k7el_las/20240226_180525.jpg => ../data/train/k7el_las/20240226_180525.jpg\n",
      "../data/test/k7el_las/20240226_175012.jpg => ../data/train/k7el_las/20240226_175012.jpg\n",
      "../data/test/k7el_las/20240226_175758.jpg => ../data/train/k7el_las/20240226_175758.jpg\n",
      "../data/test/k7el_las/20240226_180316.jpg => ../data/train/k7el_las/20240226_180316.jpg\n",
      "../data/test/k7el_las/20240226_180436.jpg => ../data/train/k7el_las/20240226_180436.jpg\n",
      "../data/test/k7el_las/20240226_175755.jpg => ../data/train/k7el_las/20240226_175755.jpg\n",
      "../data/test/k7el_las/20240226_180254.jpg => ../data/train/k7el_las/20240226_180254.jpg\n",
      "../data/test/k7el_las/20240226_175020.jpg => ../data/train/k7el_las/20240226_175020.jpg\n",
      "../data/test/k7el_las/20240226_174925.jpg => ../data/train/k7el_las/20240226_174925.jpg\n",
      "../data/test/chbada_5/IMG_20240226_134137.jpg => ../data/train/chbada_5/IMG_20240226_134137.jpg\n",
      "../data/test/chbada_5/IMG_20240226_131021.jpg => ../data/train/chbada_5/IMG_20240226_131021.jpg\n",
      "../data/test/chbada_5/IMG_20240226_130932.jpg => ../data/train/chbada_5/IMG_20240226_130932.jpg\n",
      "../data/test/chbada_5/IMG_20240226_134602.jpg => ../data/train/chbada_5/IMG_20240226_134602.jpg\n",
      "../data/test/chbada_5/IMG_20240226_111832.jpg => ../data/train/chbada_5/IMG_20240226_111832.jpg\n",
      "../data/test/chbada_5/IMG_20240226_130208.jpg => ../data/train/chbada_5/IMG_20240226_130208.jpg\n",
      "../data/test/chbada_5/IMG_20240226_130734.jpg => ../data/train/chbada_5/IMG_20240226_130734.jpg\n",
      "../data/test/chbada_5/IMG_20240226_131058.jpg => ../data/train/chbada_5/IMG_20240226_131058.jpg\n",
      "../data/test/chbada_5/IMG_20240227_175416.jpg => ../data/train/chbada_5/IMG_20240227_175416.jpg\n",
      "../data/test/chbada_5/IMG_20240226_134438.jpg => ../data/train/chbada_5/IMG_20240226_134438.jpg\n",
      "../data/test/k7el_4/20240226_181542.jpg => ../data/train/k7el_4/20240226_181542.jpg\n",
      "../data/test/k7el_4/20240226_182235.jpg => ../data/train/k7el_4/20240226_182235.jpg\n",
      "../data/test/k7el_4/20240226_181535.jpg => ../data/train/k7el_4/20240226_181535.jpg\n",
      "../data/test/k7el_4/20240226_182511.jpg => ../data/train/k7el_4/20240226_182511.jpg\n",
      "../data/test/k7el_4/20240226_181849.jpg => ../data/train/k7el_4/20240226_181849.jpg\n",
      "../data/test/k7el_4/20240226_181936.jpg => ../data/train/k7el_4/20240226_181936.jpg\n",
      "../data/test/k7el_4/20240226_182533.jpg => ../data/train/k7el_4/20240226_182533.jpg\n",
      "../data/test/k7el_4/20240226_181558.jpg => ../data/train/k7el_4/20240226_181558.jpg\n",
      "../data/test/k7el_4/20240226_182544.jpg => ../data/train/k7el_4/20240226_182544.jpg\n",
      "../data/test/k7el_4/20240226_181907.jpg => ../data/train/k7el_4/20240226_181907.jpg\n",
      "../data/test/k7el_5/IMG_20240227_092003.jpg => ../data/train/k7el_5/IMG_20240227_092003.jpg\n",
      "../data/test/k7el_5/IMG_20240227_092032.jpg => ../data/train/k7el_5/IMG_20240227_092032.jpg\n",
      "../data/test/k7el_5/IMG_20240227_092348.jpg => ../data/train/k7el_5/IMG_20240227_092348.jpg\n",
      "../data/test/k7el_5/IMG_20240227_091645.jpg => ../data/train/k7el_5/IMG_20240227_091645.jpg\n",
      "../data/test/k7el_5/IMG_20240227_092355.jpg => ../data/train/k7el_5/IMG_20240227_092355.jpg\n",
      "../data/test/k7el_5/IMG_20240227_104205.jpg => ../data/train/k7el_5/IMG_20240227_104205.jpg\n",
      "../data/test/k7el_5/IMG_20240227_091939.jpg => ../data/train/k7el_5/IMG_20240227_091939.jpg\n",
      "../data/test/k7el_5/IMG_20240227_104020.jpg => ../data/train/k7el_5/IMG_20240227_104020.jpg\n",
      "../data/test/k7el_5/IMG_20240227_092157.jpg => ../data/train/k7el_5/IMG_20240227_092157.jpg\n",
      "../data/test/k7el_5/IMG_20240227_091518.jpg => ../data/train/k7el_5/IMG_20240227_091518.jpg\n",
      "../data/test/chbada_neuf/IMG_20240226_153139.jpg => ../data/train/chbada_neuf/IMG_20240226_153139.jpg\n",
      "../data/test/chbada_neuf/IMG_20240226_152857.jpg => ../data/train/chbada_neuf/IMG_20240226_152857.jpg\n",
      "../data/test/chbada_neuf/IMG_20240226_152425.jpg => ../data/train/chbada_neuf/IMG_20240226_152425.jpg\n",
      "../data/test/chbada_neuf/IMG_20240226_153159.jpg => ../data/train/chbada_neuf/IMG_20240226_153159.jpg\n",
      "../data/test/chbada_neuf/IMG_20240226_153247.jpg => ../data/train/chbada_neuf/IMG_20240226_153247.jpg\n",
      "../data/test/chbada_neuf/IMG_20240226_153221.jpg => ../data/train/chbada_neuf/IMG_20240226_153221.jpg\n",
      "../data/test/chbada_neuf/IMG_20240226_153313.jpg => ../data/train/chbada_neuf/IMG_20240226_153313.jpg\n",
      "../data/test/chbada_neuf/IMG_20240226_151946.jpg => ../data/train/chbada_neuf/IMG_20240226_151946.jpg\n",
      "../data/test/chbada_neuf/IMG_20240226_153013.jpg => ../data/train/chbada_neuf/IMG_20240226_153013.jpg\n",
      "../data/test/chbada_neuf/IMG_20240226_153207.jpg => ../data/train/chbada_neuf/IMG_20240226_153207.jpg\n",
      "../data/test/dheb_neuf/20240226_151736.jpg => ../data/train/dheb_neuf/20240226_151736.jpg\n",
      "../data/test/dheb_neuf/20240226_135818.jpg => ../data/train/dheb_neuf/20240226_135818.jpg\n",
      "../data/test/dheb_neuf/20240226_135706.jpg => ../data/train/dheb_neuf/20240226_135706.jpg\n",
      "../data/test/dheb_neuf/20240226_152245.jpg => ../data/train/dheb_neuf/20240226_152245.jpg\n",
      "../data/test/dheb_neuf/20240226_135737.jpg => ../data/train/dheb_neuf/20240226_135737.jpg\n",
      "../data/test/dheb_neuf/20240226_152315.jpg => ../data/train/dheb_neuf/20240226_152315.jpg\n",
      "../data/test/dheb_neuf/20240226_151850.jpg => ../data/train/dheb_neuf/20240226_151850.jpg\n",
      "../data/test/dheb_neuf/20240226_151825.jpg => ../data/train/dheb_neuf/20240226_151825.jpg\n",
      "../data/test/dheb_neuf/20240226_152343.jpg => ../data/train/dheb_neuf/20240226_152343.jpg\n",
      "../data/test/dheb_neuf/20240226_135810.jpg => ../data/train/dheb_neuf/20240226_135810.jpg\n",
      "../data/test/copas_5/IMG_20240226_124415.jpg => ../data/train/copas_5/IMG_20240226_124415.jpg\n",
      "../data/test/copas_5/IMG_20240226_124413.jpg => ../data/train/copas_5/IMG_20240226_124413.jpg\n",
      "../data/test/copas_5/_storage_emulated_0_Pictures_Gallery_owner_copas_4_IMG_20240227_162945.jpg => ../data/train/copas_5/_storage_emulated_0_Pictures_Gallery_owner_copas_4_IMG_20240227_162945.jpg\n",
      "../data/test/copas_5/IMG_20240227_160557.jpg => ../data/train/copas_5/IMG_20240227_160557.jpg\n",
      "../data/test/copas_5/IMG_20240226_122458.jpg => ../data/train/copas_5/IMG_20240226_122458.jpg\n",
      "../data/test/copas_5/IMG_20240227_162916.jpg => ../data/train/copas_5/IMG_20240227_162916.jpg\n",
      "../data/test/copas_5/IMG_20240226_122130.jpg => ../data/train/copas_5/IMG_20240226_122130.jpg\n",
      "../data/test/copas_5/IMG_20240227_155639.jpg => ../data/train/copas_5/IMG_20240227_155639.jpg\n",
      "../data/test/copas_5/IMG_20240227_155628.jpg => ../data/train/copas_5/IMG_20240227_155628.jpg\n",
      "../data/test/copas_5/IMG_20240227_155709.jpg => ../data/train/copas_5/IMG_20240227_155709.jpg\n",
      "../data/test/copas_4/IMG_20240226_122041.jpg => ../data/train/copas_4/IMG_20240226_122041.jpg\n",
      "../data/test/copas_4/IMG_20240226_173306.jpg => ../data/train/copas_4/IMG_20240226_173306.jpg\n",
      "../data/test/copas_4/IMG_20240226_173119.jpg => ../data/train/copas_4/IMG_20240226_173119.jpg\n",
      "../data/test/copas_4/IMG_20240226_111517.jpg => ../data/train/copas_4/IMG_20240226_111517.jpg\n",
      "../data/test/copas_4/IMG_20240226_173146.jpg => ../data/train/copas_4/IMG_20240226_173146.jpg\n",
      "../data/test/copas_4/IMG_20240226_173149.jpg => ../data/train/copas_4/IMG_20240226_173149.jpg\n",
      "../data/test/copas_4/IMG_20240227_162928.jpg => ../data/train/copas_4/IMG_20240227_162928.jpg\n",
      "../data/test/copas_4/IMG_20240226_173315.jpg => ../data/train/copas_4/IMG_20240226_173315.jpg\n",
      "../data/test/copas_4/IMG_20240226_111431.jpg => ../data/train/copas_4/IMG_20240226_111431.jpg\n",
      "../data/test/copas_4/IMG_20240227_162824.jpg => ../data/train/copas_4/IMG_20240227_162824.jpg\n",
      "../data/test/dheb_dix/20240226_155625.jpg => ../data/train/dheb_dix/20240226_155625.jpg\n",
      "../data/test/dheb_dix/20240226_154548.jpg => ../data/train/dheb_dix/20240226_154548.jpg\n",
      "../data/test/dheb_dix/20240226_160000.jpg => ../data/train/dheb_dix/20240226_160000.jpg\n",
      "../data/test/dheb_dix/20240226_155316.jpg => ../data/train/dheb_dix/20240226_155316.jpg\n",
      "../data/test/dheb_dix/20240226_154521.jpg => ../data/train/dheb_dix/20240226_154521.jpg\n",
      "../data/test/dheb_dix/20240226_155341.jpg => ../data/train/dheb_dix/20240226_155341.jpg\n",
      "../data/test/dheb_dix/20240226_155519.jpg => ../data/train/dheb_dix/20240226_155519.jpg\n",
      "../data/test/dheb_dix/20240226_154537.jpg => ../data/train/dheb_dix/20240226_154537.jpg\n",
      "../data/test/dheb_dix/20240226_154627.jpg => ../data/train/dheb_dix/20240226_154627.jpg\n",
      "../data/test/dheb_dix/20240226_155710.jpg => ../data/train/dheb_dix/20240226_155710.jpg\n",
      "../data/test/dheb_4/20240226_122358.jpg => ../data/train/dheb_4/20240226_122358.jpg\n",
      "../data/test/dheb_4/20240226_123329.jpg => ../data/train/dheb_4/20240226_123329.jpg\n",
      "../data/test/dheb_4/20240226_122018.jpg => ../data/train/dheb_4/20240226_122018.jpg\n",
      "../data/test/dheb_4/20240226_122215.jpg => ../data/train/dheb_4/20240226_122215.jpg\n",
      "../data/test/dheb_4/20240226_123250.jpg => ../data/train/dheb_4/20240226_123250.jpg\n",
      "../data/test/dheb_4/20240226_121919.jpg => ../data/train/dheb_4/20240226_121919.jpg\n",
      "../data/test/dheb_4/20240226_122910.jpg => ../data/train/dheb_4/20240226_122910.jpg\n",
      "../data/test/dheb_4/20240226_123352.jpg => ../data/train/dheb_4/20240226_123352.jpg\n",
      "../data/test/dheb_4/20240226_122004.jpg => ../data/train/dheb_4/20240226_122004.jpg\n",
      "../data/test/dheb_4/20240226_123102.jpg => ../data/train/dheb_4/20240226_123102.jpg\n",
      "../data/test/dheb_las/20240226_111831.jpg => ../data/train/dheb_las/20240226_111831.jpg\n",
      "../data/test/dheb_las/20240226_113228.jpg => ../data/train/dheb_las/20240226_113228.jpg\n",
      "../data/test/dheb_las/20240226_113011.jpg => ../data/train/dheb_las/20240226_113011.jpg\n",
      "../data/test/dheb_las/20240226_110543.jpg => ../data/train/dheb_las/20240226_110543.jpg\n",
      "../data/test/dheb_las/20240226_111338.jpg => ../data/train/dheb_las/20240226_111338.jpg\n",
      "../data/test/dheb_las/20240226_110812.jpg => ../data/train/dheb_las/20240226_110812.jpg\n",
      "../data/test/dheb_las/20240226_111617.jpg => ../data/train/dheb_las/20240226_111617.jpg\n",
      "../data/test/dheb_las/20240226_112441.jpg => ../data/train/dheb_las/20240226_112441.jpg\n",
      "../data/test/dheb_las/20240226_111804.jpg => ../data/train/dheb_las/20240226_111804.jpg\n",
      "../data/test/dheb_las/20240226_112109.jpg => ../data/train/dheb_las/20240226_112109.jpg\n",
      "../data/test/copas_neuf/IMG_20240227_064412.jpg => ../data/train/copas_neuf/IMG_20240227_064412.jpg\n",
      "../data/test/copas_neuf/IMG_20240227_064445.jpg => ../data/train/copas_neuf/IMG_20240227_064445.jpg\n",
      "../data/test/copas_neuf/IMG_20240227_064433.jpg => ../data/train/copas_neuf/IMG_20240227_064433.jpg\n",
      "../data/test/copas_neuf/IMG_20240227_064005.jpg => ../data/train/copas_neuf/IMG_20240227_064005.jpg\n",
      "../data/test/copas_neuf/IMG_20240227_064255.jpg => ../data/train/copas_neuf/IMG_20240227_064255.jpg\n",
      "../data/test/copas_neuf/IMG_20240227_170917.jpg => ../data/train/copas_neuf/IMG_20240227_170917.jpg\n",
      "../data/test/copas_neuf/IMG_20240227_064341.jpg => ../data/train/copas_neuf/IMG_20240227_064341.jpg\n",
      "../data/test/copas_neuf/IMG_20240227_064346.jpg => ../data/train/copas_neuf/IMG_20240227_064346.jpg\n",
      "../data/test/copas_neuf/IMG_20240227_064246.jpg => ../data/train/copas_neuf/IMG_20240227_064246.jpg\n",
      "../data/test/copas_neuf/IMG_20240227_064432.jpg => ../data/train/copas_neuf/IMG_20240227_064432.jpg\n",
      "../data/test/dheb_cabal/20240226_165511.jpg => ../data/train/dheb_cabal/20240226_165511.jpg\n",
      "../data/test/dheb_cabal/20240226_170514.jpg => ../data/train/dheb_cabal/20240226_170514.jpg\n",
      "../data/test/dheb_cabal/20240226_165003.jpg => ../data/train/dheb_cabal/20240226_165003.jpg\n",
      "../data/test/dheb_cabal/20240226_165719.jpg => ../data/train/dheb_cabal/20240226_165719.jpg\n",
      "../data/test/dheb_cabal/20240226_170523.jpg => ../data/train/dheb_cabal/20240226_170523.jpg\n",
      "../data/test/dheb_cabal/20240226_163610.jpg => ../data/train/dheb_cabal/20240226_163610.jpg\n",
      "../data/test/dheb_cabal/20240226_165109.jpg => ../data/train/dheb_cabal/20240226_165109.jpg\n",
      "../data/test/dheb_cabal/20240226_170333.jpg => ../data/train/dheb_cabal/20240226_170333.jpg\n",
      "../data/test/dheb_cabal/20240226_170724.jpg => ../data/train/dheb_cabal/20240226_170724.jpg\n",
      "../data/test/dheb_cabal/20240226_165725.jpg => ../data/train/dheb_cabal/20240226_165725.jpg\n",
      "../data/test/copas_sota/IMG_20240227_104614.jpg => ../data/train/copas_sota/IMG_20240227_104614.jpg\n",
      "../data/test/copas_sota/IMG_20240227_104409.jpg => ../data/train/copas_sota/IMG_20240227_104409.jpg\n",
      "../data/test/copas_sota/IMG_20240227_104601.jpg => ../data/train/copas_sota/IMG_20240227_104601.jpg\n",
      "../data/test/copas_sota/IMG_20240227_105212.jpg => ../data/train/copas_sota/IMG_20240227_105212.jpg\n",
      "../data/test/copas_sota/IMG_20240227_105013.jpg => ../data/train/copas_sota/IMG_20240227_105013.jpg\n",
      "../data/test/copas_sota/IMG_20240227_104620.jpg => ../data/train/copas_sota/IMG_20240227_104620.jpg\n",
      "../data/test/copas_sota/IMG_20240227_104438.jpg => ../data/train/copas_sota/IMG_20240227_104438.jpg\n",
      "../data/test/copas_sota/IMG_20240227_104632.jpg => ../data/train/copas_sota/IMG_20240227_104632.jpg\n",
      "../data/test/copas_sota/IMG_20240227_104237.jpg => ../data/train/copas_sota/IMG_20240227_104237.jpg\n",
      "../data/test/copas_sota/IMG_20240227_105018.jpg => ../data/train/copas_sota/IMG_20240227_105018.jpg\n",
      "../data/test/copas_rey/IMG_20240227_113028.jpg => ../data/train/copas_rey/IMG_20240227_113028.jpg\n",
      "../data/test/copas_rey/IMG_20240227_113019.jpg => ../data/train/copas_rey/IMG_20240227_113019.jpg\n",
      "../data/test/copas_rey/IMG_20240227_113037.jpg => ../data/train/copas_rey/IMG_20240227_113037.jpg\n",
      "../data/test/copas_rey/IMG_20240227_113449.jpg => ../data/train/copas_rey/IMG_20240227_113449.jpg\n",
      "../data/test/copas_rey/IMG_20240227_113047.jpg => ../data/train/copas_rey/IMG_20240227_113047.jpg\n",
      "../data/test/copas_rey/IMG_20240227_113515.jpg => ../data/train/copas_rey/IMG_20240227_113515.jpg\n",
      "../data/test/copas_rey/IMG_20240227_113504.jpg => ../data/train/copas_rey/IMG_20240227_113504.jpg\n",
      "../data/test/copas_rey/IMG_20240227_112823.jpg => ../data/train/copas_rey/IMG_20240227_112823.jpg\n",
      "../data/test/copas_rey/IMG_20240227_112820.jpg => ../data/train/copas_rey/IMG_20240227_112820.jpg\n",
      "../data/test/copas_rey/IMG_20240227_112826.jpg => ../data/train/copas_rey/IMG_20240227_112826.jpg\n",
      "../data/test/k7el_neuf/IMG_20240227_165405.jpg => ../data/train/k7el_neuf/IMG_20240227_165405.jpg\n",
      "../data/test/k7el_neuf/IMG_20240227_105441.jpg => ../data/train/k7el_neuf/IMG_20240227_105441.jpg\n",
      "../data/test/k7el_neuf/IMG_20240227_105638.jpg => ../data/train/k7el_neuf/IMG_20240227_105638.jpg\n",
      "../data/test/k7el_neuf/IMG_20240227_110031.jpg => ../data/train/k7el_neuf/IMG_20240227_110031.jpg\n",
      "../data/test/k7el_neuf/IMG_20240227_105257.jpg => ../data/train/k7el_neuf/IMG_20240227_105257.jpg\n",
      "../data/test/k7el_neuf/IMG_20240227_165411.jpg => ../data/train/k7el_neuf/IMG_20240227_165411.jpg\n",
      "../data/test/k7el_neuf/IMG_20240227_105943.jpg => ../data/train/k7el_neuf/IMG_20240227_105943.jpg\n",
      "../data/test/k7el_neuf/IMG_20240227_110400.jpg => ../data/train/k7el_neuf/IMG_20240227_110400.jpg\n",
      "../data/test/k7el_neuf/IMG_20240227_105958.jpg => ../data/train/k7el_neuf/IMG_20240227_105958.jpg\n",
      "../data/test/k7el_neuf/IMG_20240227_165348.jpg => ../data/train/k7el_neuf/IMG_20240227_165348.jpg\n",
      "../data/test/copas_cabal/IMG_20240227_110120.jpg => ../data/train/copas_cabal/IMG_20240227_110120.jpg\n",
      "../data/test/copas_cabal/IMG_20240227_111948.jpg => ../data/train/copas_cabal/IMG_20240227_111948.jpg\n",
      "../data/test/copas_cabal/IMG_20240227_110947.jpg => ../data/train/copas_cabal/IMG_20240227_110947.jpg\n",
      "../data/test/copas_cabal/IMG_20240227_111925.jpg => ../data/train/copas_cabal/IMG_20240227_111925.jpg\n",
      "../data/test/copas_cabal/IMG_20240227_112000.jpg => ../data/train/copas_cabal/IMG_20240227_112000.jpg\n",
      "../data/test/copas_cabal/IMG_20240227_111524.jpg => ../data/train/copas_cabal/IMG_20240227_111524.jpg\n",
      "../data/test/copas_cabal/IMG_20240227_112024.jpg => ../data/train/copas_cabal/IMG_20240227_112024.jpg\n",
      "../data/test/copas_cabal/IMG_20240227_111218.jpg => ../data/train/copas_cabal/IMG_20240227_111218.jpg\n",
      "../data/test/copas_cabal/IMG_20240227_105448.jpg => ../data/train/copas_cabal/IMG_20240227_105448.jpg\n",
      "../data/test/copas_cabal/IMG_20240227_111456.jpg => ../data/train/copas_cabal/IMG_20240227_111456.jpg\n",
      "../data/test/chbada_rey/IMG_20240226_174218.jpg => ../data/train/chbada_rey/IMG_20240226_174218.jpg\n",
      "../data/test/chbada_rey/IMG_20240226_173535.jpg => ../data/train/chbada_rey/IMG_20240226_173535.jpg\n",
      "../data/test/chbada_rey/IMG_20240226_173605.jpg => ../data/train/chbada_rey/IMG_20240226_173605.jpg\n",
      "../data/test/chbada_rey/IMG_20240226_173739.jpg => ../data/train/chbada_rey/IMG_20240226_173739.jpg\n",
      "../data/test/chbada_rey/IMG_20240226_174700.jpg => ../data/train/chbada_rey/IMG_20240226_174700.jpg\n",
      "../data/test/chbada_rey/IMG_20240226_173711.jpg => ../data/train/chbada_rey/IMG_20240226_173711.jpg\n",
      "../data/test/chbada_rey/IMG_20240226_174929.jpg => ../data/train/chbada_rey/IMG_20240226_174929.jpg\n",
      "../data/test/chbada_rey/IMG_20240226_174922.jpg => ../data/train/chbada_rey/IMG_20240226_174922.jpg\n",
      "../data/test/chbada_rey/IMG_20240226_174832.jpg => ../data/train/chbada_rey/IMG_20240226_174832.jpg\n",
      "../data/test/chbada_rey/IMG_20240226_174851.jpg => ../data/train/chbada_rey/IMG_20240226_174851.jpg\n",
      "../data/test/chbada_sota/IMG_20240226_162849.jpg => ../data/train/chbada_sota/IMG_20240226_162849.jpg\n",
      "../data/test/chbada_sota/IMG_20240226_163421.jpg => ../data/train/chbada_sota/IMG_20240226_163421.jpg\n",
      "../data/test/chbada_sota/IMG_20240228_003033.jpg => ../data/train/chbada_sota/IMG_20240228_003033.jpg\n",
      "../data/test/chbada_sota/IMG_20240226_163330.jpg => ../data/train/chbada_sota/IMG_20240226_163330.jpg\n",
      "../data/test/chbada_sota/IMG_20240226_162520.jpg => ../data/train/chbada_sota/IMG_20240226_162520.jpg\n",
      "../data/test/chbada_sota/IMG_20240226_163732.jpg => ../data/train/chbada_sota/IMG_20240226_163732.jpg\n",
      "../data/test/chbada_sota/IMG_20240226_163309.jpg => ../data/train/chbada_sota/IMG_20240226_163309.jpg\n",
      "../data/test/chbada_sota/IMG_20240226_162914.jpg => ../data/train/chbada_sota/IMG_20240226_162914.jpg\n",
      "../data/test/chbada_sota/IMG_20240226_162455.jpg => ../data/train/chbada_sota/IMG_20240226_162455.jpg\n",
      "../data/test/chbada_sota/IMG_20240226_163715.jpg => ../data/train/chbada_sota/IMG_20240226_163715.jpg\n",
      "../data/test/k7el_sota/IMG_20240227_122208.jpg => ../data/train/k7el_sota/IMG_20240227_122208.jpg\n",
      "../data/test/k7el_sota/IMG_20240227_122213.jpg => ../data/train/k7el_sota/IMG_20240227_122213.jpg\n",
      "../data/test/k7el_sota/IMG_20240227_120915.jpg => ../data/train/k7el_sota/IMG_20240227_120915.jpg\n",
      "../data/test/k7el_sota/IMG_20240227_122108.jpg => ../data/train/k7el_sota/IMG_20240227_122108.jpg\n",
      "../data/test/k7el_sota/IMG_20240227_120942.jpg => ../data/train/k7el_sota/IMG_20240227_120942.jpg\n",
      "../data/test/k7el_sota/IMG_20240227_121355.jpg => ../data/train/k7el_sota/IMG_20240227_121355.jpg\n",
      "../data/test/k7el_sota/IMG_20240227_121701.jpg => ../data/train/k7el_sota/IMG_20240227_121701.jpg\n",
      "../data/test/k7el_sota/IMG_20240227_121518.jpg => ../data/train/k7el_sota/IMG_20240227_121518.jpg\n",
      "../data/test/k7el_sota/IMG_20240227_120716.jpg => ../data/train/k7el_sota/IMG_20240227_120716.jpg\n",
      "../data/test/k7el_sota/IMG_20240227_121436.jpg => ../data/train/k7el_sota/IMG_20240227_121436.jpg\n",
      "../data/test/chbada_cabal/IMG_20240226_172922.jpg => ../data/train/chbada_cabal/IMG_20240226_172922.jpg\n",
      "../data/test/chbada_cabal/IMG_20240226_171953.jpg => ../data/train/chbada_cabal/IMG_20240226_171953.jpg\n",
      "../data/test/chbada_cabal/IMG_20240226_172726.jpg => ../data/train/chbada_cabal/IMG_20240226_172726.jpg\n",
      "../data/test/chbada_cabal/IMG_20240226_172209.jpg => ../data/train/chbada_cabal/IMG_20240226_172209.jpg\n",
      "../data/test/chbada_cabal/IMG_20240228_004421.jpg => ../data/train/chbada_cabal/IMG_20240228_004421.jpg\n",
      "../data/test/chbada_cabal/IMG_20240226_172605.jpg => ../data/train/chbada_cabal/IMG_20240226_172605.jpg\n",
      "../data/test/chbada_cabal/IMG_20240226_172230.jpg => ../data/train/chbada_cabal/IMG_20240226_172230.jpg\n",
      "../data/test/chbada_cabal/IMG_20240226_172259.jpg => ../data/train/chbada_cabal/IMG_20240226_172259.jpg\n",
      "../data/test/chbada_cabal/IMG_20240226_172156.jpg => ../data/train/chbada_cabal/IMG_20240226_172156.jpg\n",
      "../data/test/chbada_cabal/IMG_20240226_172019.jpg => ../data/train/chbada_cabal/IMG_20240226_172019.jpg\n",
      "../data/test/copas_dix/IMG_20240227_062211.jpg => ../data/train/copas_dix/IMG_20240227_062211.jpg\n",
      "../data/test/copas_dix/IMG_20240227_061902.jpg => ../data/train/copas_dix/IMG_20240227_061902.jpg\n",
      "../data/test/copas_dix/IMG_20240227_171216.jpg => ../data/train/copas_dix/IMG_20240227_171216.jpg\n",
      "../data/test/copas_dix/IMG_20240227_122444.jpg => ../data/train/copas_dix/IMG_20240227_122444.jpg\n",
      "../data/test/copas_dix/IMG_20240227_061645.jpg => ../data/train/copas_dix/IMG_20240227_061645.jpg\n",
      "../data/test/copas_dix/IMG_20240227_171145.jpg => ../data/train/copas_dix/IMG_20240227_171145.jpg\n",
      "../data/test/copas_dix/IMG_20240227_122138.jpg => ../data/train/copas_dix/IMG_20240227_122138.jpg\n",
      "../data/test/copas_dix/IMG_20240227_122158.jpg => ../data/train/copas_dix/IMG_20240227_122158.jpg\n",
      "../data/test/copas_dix/IMG_20240227_062712.jpg => ../data/train/copas_dix/IMG_20240227_062712.jpg\n",
      "../data/test/copas_dix/IMG_20240227_062355.jpg => ../data/train/copas_dix/IMG_20240227_062355.jpg\n",
      "../data/test/chbada_4/IMG_20240226_121751.jpg => ../data/train/chbada_4/IMG_20240226_121751.jpg\n",
      "../data/test/chbada_4/IMG_20240226_122456.jpg => ../data/train/chbada_4/IMG_20240226_122456.jpg\n",
      "../data/test/chbada_4/IMG_20240226_122414.jpg => ../data/train/chbada_4/IMG_20240226_122414.jpg\n",
      "../data/test/chbada_4/IMG_20240227_173546.jpg => ../data/train/chbada_4/IMG_20240227_173546.jpg\n",
      "../data/test/chbada_4/IMG_20240227_173549.jpg => ../data/train/chbada_4/IMG_20240227_173549.jpg\n",
      "../data/test/chbada_4/IMG_20240226_122308.jpg => ../data/train/chbada_4/IMG_20240226_122308.jpg\n",
      "../data/test/chbada_4/IMG_20240226_121846.jpg => ../data/train/chbada_4/IMG_20240226_121846.jpg\n",
      "../data/test/chbada_4/IMG_20240227_173611.jpg => ../data/train/chbada_4/IMG_20240227_173611.jpg\n",
      "../data/test/chbada_4/IMG_20240227_173627.jpg => ../data/train/chbada_4/IMG_20240227_173627.jpg\n",
      "../data/test/chbada_4/IMG_20240226_122447.jpg => ../data/train/chbada_4/IMG_20240226_122447.jpg\n",
      "../data/test/k7el_dix/IMG_20240227_111812.jpg => ../data/train/k7el_dix/IMG_20240227_111812.jpg\n",
      "../data/test/k7el_dix/IMG_20240227_112812.jpg => ../data/train/k7el_dix/IMG_20240227_112812.jpg\n",
      "../data/test/k7el_dix/IMG_20240227_111901.jpg => ../data/train/k7el_dix/IMG_20240227_111901.jpg\n",
      "../data/test/k7el_dix/IMG_20240227_112524.jpg => ../data/train/k7el_dix/IMG_20240227_112524.jpg\n",
      "../data/test/k7el_dix/IMG_20240227_164010.jpg => ../data/train/k7el_dix/IMG_20240227_164010.jpg\n",
      "../data/test/k7el_dix/IMG_20240227_112535.jpg => ../data/train/k7el_dix/IMG_20240227_112535.jpg\n",
      "../data/test/k7el_dix/IMG_20240227_112742.jpg => ../data/train/k7el_dix/IMG_20240227_112742.jpg\n",
      "../data/test/k7el_dix/IMG_20240227_112805.jpg => ../data/train/k7el_dix/IMG_20240227_112805.jpg\n",
      "../data/test/k7el_dix/IMG_20240227_112907.jpg => ../data/train/k7el_dix/IMG_20240227_112907.jpg\n",
      "../data/test/k7el_dix/IMG_20240227_111819.jpg => ../data/train/k7el_dix/IMG_20240227_111819.jpg\n",
      "Test dataset merged to train successfully.\n"
     ]
    }
   ],
   "source": [
    "destroy_test_dir(Params.TEST_FOLDER_PATH)"
   ]
  },
  {
   "cell_type": "markdown",
   "metadata": {},
   "source": [
    "# Data checks and Splits"
   ]
  },
  {
   "cell_type": "code",
   "execution_count": 7,
   "metadata": {},
   "outputs": [
    {
     "name": "stdout",
     "output_type": "stream",
     "text": [
      "956 images have a different size\n"
     ]
    },
    {
     "name": "stderr",
     "output_type": "stream",
     "text": [
      "/home/yjalil/.pyenv/versions/3.11.5/envs/globalEnv/lib/python3.11/site-packages/PIL/TiffImagePlugin.py:868: UserWarning: Truncated File Read\n",
      "  warnings.warn(str(msg))\n",
      "/home/yjalil/.pyenv/versions/3.11.5/envs/globalEnv/lib/python3.11/site-packages/PIL/JpegImagePlugin.py:846: UserWarning: Image appears to be a malformed MPO file, it will be interpreted as a base JPEG file\n",
      "  warnings.warn(\n"
     ]
    },
    {
     "data": {
      "text/plain": [
       "False"
      ]
     },
     "execution_count": 7,
     "metadata": {},
     "output_type": "execute_result"
    }
   ],
   "source": [
    "def check_image_sizes(folder_path):\n",
    "    # Get all subfolders and their contents\n",
    "    folder = Path(folder_path)\n",
    "    subfolders = [subfolder for subfolder in folder.iterdir() if subfolder.is_dir()]\n",
    "    counter = 0\n",
    "    # Get the size of the first image found\n",
    "    first_image_size = None\n",
    "    for subfolder in subfolders:\n",
    "        images = list(subfolder.glob('*.jpg'))\n",
    "        if images:\n",
    "            with Image.open(images[0]) as img:\n",
    "                first_image_size = img.size\n",
    "\n",
    "            for image_path in images:\n",
    "                with Image.open(image_path) as img:\n",
    "                    if img.size != first_image_size:\n",
    "                        # print(f\"Image {image_path.name} in folder {subfolder.name} does not have the same size.\")\n",
    "                        counter += 1\n",
    "\n",
    "    if counter != 0:\n",
    "        print(f'{counter} images have a different size')\n",
    "        return False\n",
    "    print(\"All images have the same size.\")\n",
    "    return True\n",
    "\n",
    "check_image_sizes(folder_path = Params.TRAIN_FOLDER_PATH)"
   ]
  },
  {
   "cell_type": "code",
   "execution_count": 8,
   "metadata": {},
   "outputs": [],
   "source": [
    "from helpers import create_test_dir"
   ]
  },
  {
   "cell_type": "code",
   "execution_count": 9,
   "metadata": {},
   "outputs": [
    {
     "name": "stdout",
     "output_type": "stream",
     "text": [
      "Test dataset created successfully.\n"
     ]
    }
   ],
   "source": [
    "create_test_dir(Params.TRAIN_FOLDER_PATH, Params.TEST_FOLDER_PATH, 0.1)"
   ]
  },
  {
   "cell_type": "code",
   "execution_count": 10,
   "metadata": {},
   "outputs": [
    {
     "name": "stderr",
     "output_type": "stream",
     "text": [
      "2024-03-03 11:57:06.634079: I external/local_xla/xla/stream_executor/cuda/cuda_executor.cc:887] could not open file to read NUMA node: /sys/bus/pci/devices/0000:01:00.0/numa_node\n",
      "Your kernel may have been built without NUMA support.\n",
      "2024-03-03 11:57:06.634171: I external/local_xla/xla/stream_executor/cuda/cuda_executor.cc:887] could not open file to read NUMA node: /sys/bus/pci/devices/0000:01:00.0/numa_node\n",
      "Your kernel may have been built without NUMA support.\n",
      "2024-03-03 11:57:06.634190: I external/local_xla/xla/stream_executor/cuda/cuda_executor.cc:887] could not open file to read NUMA node: /sys/bus/pci/devices/0000:01:00.0/numa_node\n",
      "Your kernel may have been built without NUMA support.\n",
      "2024-03-03 11:57:06.777425: I external/local_xla/xla/stream_executor/cuda/cuda_executor.cc:887] could not open file to read NUMA node: /sys/bus/pci/devices/0000:01:00.0/numa_node\n",
      "Your kernel may have been built without NUMA support.\n",
      "2024-03-03 11:57:06.777481: I external/local_xla/xla/stream_executor/cuda/cuda_executor.cc:887] could not open file to read NUMA node: /sys/bus/pci/devices/0000:01:00.0/numa_node\n",
      "Your kernel may have been built without NUMA support.\n",
      "2024-03-03 11:57:06.777488: I tensorflow/core/common_runtime/gpu/gpu_device.cc:2022] Could not identify NUMA node of platform GPU id 0, defaulting to 0.  Your kernel may not have been built with NUMA support.\n",
      "2024-03-03 11:57:06.777517: I external/local_xla/xla/stream_executor/cuda/cuda_executor.cc:887] could not open file to read NUMA node: /sys/bus/pci/devices/0000:01:00.0/numa_node\n",
      "Your kernel may have been built without NUMA support.\n",
      "2024-03-03 11:57:06.777544: I tensorflow/core/common_runtime/gpu/gpu_device.cc:1929] Created device /job:localhost/replica:0/task:0/device:GPU:0 with 1767 MB memory:  -> device: 0, name: NVIDIA GeForce RTX 3050 Laptop GPU, pci bus id: 0000:01:00.0, compute capability: 8.6\n"
     ]
    }
   ],
   "source": [
    "model = tf.keras.models.Sequential([\n",
    "    tf.keras.layers.Resizing(Params.INPUT_HEIGHT,Params.INPUT_WIDTH),\n",
    "    tf.keras.layers.Conv2D(64, (2, 2), activation=\"relu\", padding=\"same\"),\n",
    "    tf.keras.layers.MaxPooling2D((2, 2)),\n",
    "\n",
    "    tf.keras.layers.Conv2D(128, (2, 2), activation=\"relu\", padding=\"same\"),\n",
    "    tf.keras.layers.MaxPooling2D((2, 2)),\n",
    "\n",
    "    tf.keras.layers.Conv2D(256, (2, 2), activation=\"relu\", padding=\"same\"),\n",
    "    tf.keras.layers.MaxPooling2D((2, 2)),\n",
    "\n",
    "    tf.keras.layers.Flatten(),\n",
    "    tf.keras.layers.Dense(128, activation='relu'),\n",
    "    tf.keras.layers.Dense(64, activation='relu'),\n",
    "    tf.keras.layers.Dense(32, activation='relu'),\n",
    "\n",
    "    tf.keras.layers.Dense(Params.CLASSES, activation='softmax')\n",
    "])\n",
    "\n",
    "model.compile('adam', loss='categorical_crossentropy', metrics=['accuracy'])\n"
   ]
  },
  {
   "cell_type": "code",
   "execution_count": 11,
   "metadata": {},
   "outputs": [
    {
     "name": "stdout",
     "output_type": "stream",
     "text": [
      "Found 2879 files belonging to 32 classes.\n",
      "Using 2304 files for training.\n",
      "Using 575 files for validation.\n"
     ]
    }
   ],
   "source": [
    "train_ds, val_ds = tf.keras.utils.image_dataset_from_directory(\n",
    "  Path(Params.TRAIN_FOLDER_PATH),\n",
    "  validation_split=0.2,\n",
    "  subset=\"both\",\n",
    "  labels='inferred',\n",
    "  label_mode='categorical',\n",
    "  seed=123,\n",
    "  batch_size=Params.BATCH_SIZE)"
   ]
  },
  {
   "cell_type": "code",
   "execution_count": 12,
   "metadata": {},
   "outputs": [
    {
     "name": "stdout",
     "output_type": "stream",
     "text": [
      "Found 320 files belonging to 32 classes.\n"
     ]
    }
   ],
   "source": [
    "test_ds = tf.keras.utils.image_dataset_from_directory(\n",
    "  Path(Params.TEST_FOLDER_PATH),\n",
    "  labels='inferred',\n",
    "  label_mode='categorical',\n",
    "  batch_size=Params.BATCH_SIZE)"
   ]
  },
  {
   "cell_type": "code",
   "execution_count": 13,
   "metadata": {},
   "outputs": [
    {
     "name": "stdout",
     "output_type": "stream",
     "text": [
      "Epoch 1/200\n"
     ]
    },
    {
     "name": "stderr",
     "output_type": "stream",
     "text": [
      "2024-03-03 11:57:12.032270: I external/local_xla/xla/service/service.cc:168] XLA service 0x55b271a91c90 initialized for platform CUDA (this does not guarantee that XLA will be used). Devices:\n",
      "2024-03-03 11:57:12.032332: I external/local_xla/xla/service/service.cc:176]   StreamExecutor device (0): NVIDIA GeForce RTX 3050 Laptop GPU, Compute Capability 8.6\n",
      "2024-03-03 11:57:12.126756: I tensorflow/compiler/mlir/tensorflow/utils/dump_mlir_util.cc:269] disabling MLIR crash reproducer, set env var `MLIR_CRASH_REPRODUCER_DIRECTORY` to enable.\n",
      "2024-03-03 11:57:12.556908: I external/local_xla/xla/stream_executor/cuda/cuda_dnn.cc:454] Loaded cuDNN version 8904\n"
     ]
    },
    {
     "name": "stdout",
     "output_type": "stream",
     "text": [
      "\u001b[1m 2/72\u001b[0m \u001b[37m━━━━━━━━━━━━━━━━━━━━\u001b[0m \u001b[1m3s\u001b[0m 54ms/step - accuracy: 0.0234 - loss: 92.2036  "
     ]
    },
    {
     "name": "stderr",
     "output_type": "stream",
     "text": [
      "WARNING: All log messages before absl::InitializeLog() is called are written to STDERR\n",
      "I0000 00:00:1709463438.481319  151143 device_compiler.h:186] Compiled cluster using XLA!  This line is logged at most once for the lifetime of the process.\n"
     ]
    },
    {
     "name": "stdout",
     "output_type": "stream",
     "text": [
      "\u001b[1m72/72\u001b[0m \u001b[32m━━━━━━━━━━━━━━━━━━━━\u001b[0m\u001b[37m\u001b[0m \u001b[1m29s\u001b[0m 267ms/step - accuracy: 0.0381 - loss: 33.6086 - val_accuracy: 0.0748 - val_loss: 3.3564\n",
      "Epoch 2/200\n",
      "\u001b[1m72/72\u001b[0m \u001b[32m━━━━━━━━━━━━━━━━━━━━\u001b[0m\u001b[37m\u001b[0m \u001b[1m18s\u001b[0m 231ms/step - accuracy: 0.1257 - loss: 3.2086 - val_accuracy: 0.1670 - val_loss: 3.0207\n",
      "Epoch 3/200\n",
      "\u001b[1m72/72\u001b[0m \u001b[32m━━━━━━━━━━━━━━━━━━━━\u001b[0m\u001b[37m\u001b[0m \u001b[1m18s\u001b[0m 227ms/step - accuracy: 0.2147 - loss: 2.7374 - val_accuracy: 0.2278 - val_loss: 2.8518\n",
      "Epoch 4/200\n",
      "\u001b[1m72/72\u001b[0m \u001b[32m━━━━━━━━━━━━━━━━━━━━\u001b[0m\u001b[37m\u001b[0m \u001b[1m18s\u001b[0m 229ms/step - accuracy: 0.3517 - loss: 2.2451 - val_accuracy: 0.2383 - val_loss: 3.0046\n",
      "Epoch 5/200\n",
      "\u001b[1m72/72\u001b[0m \u001b[32m━━━━━━━━━━━━━━━━━━━━\u001b[0m\u001b[37m\u001b[0m \u001b[1m20s\u001b[0m 249ms/step - accuracy: 0.4325 - loss: 1.9168 - val_accuracy: 0.3791 - val_loss: 2.3104\n",
      "Epoch 6/200\n",
      "\u001b[1m72/72\u001b[0m \u001b[32m━━━━━━━━━━━━━━━━━━━━\u001b[0m\u001b[37m\u001b[0m \u001b[1m18s\u001b[0m 231ms/step - accuracy: 0.5497 - loss: 1.3808 - val_accuracy: 0.4504 - val_loss: 2.1123\n",
      "Epoch 7/200\n",
      "\u001b[1m72/72\u001b[0m \u001b[32m━━━━━━━━━━━━━━━━━━━━\u001b[0m\u001b[37m\u001b[0m \u001b[1m20s\u001b[0m 222ms/step - accuracy: 0.6871 - loss: 0.9650 - val_accuracy: 0.4557 - val_loss: 2.5902\n",
      "Epoch 8/200\n",
      "\u001b[1m72/72\u001b[0m \u001b[32m━━━━━━━━━━━━━━━━━━━━\u001b[0m\u001b[37m\u001b[0m \u001b[1m18s\u001b[0m 224ms/step - accuracy: 0.7170 - loss: 0.8143 - val_accuracy: 0.5252 - val_loss: 2.3928\n",
      "Epoch 9/200\n",
      "\u001b[1m72/72\u001b[0m \u001b[32m━━━━━━━━━━━━━━━━━━━━\u001b[0m\u001b[37m\u001b[0m \u001b[1m20s\u001b[0m 248ms/step - accuracy: 0.8046 - loss: 0.5589 - val_accuracy: 0.5078 - val_loss: 2.5966\n",
      "Epoch 10/200\n",
      "\u001b[1m72/72\u001b[0m \u001b[32m━━━━━━━━━━━━━━━━━━━━\u001b[0m\u001b[37m\u001b[0m \u001b[1m22s\u001b[0m 273ms/step - accuracy: 0.8682 - loss: 0.4129 - val_accuracy: 0.5409 - val_loss: 2.8208\n",
      "Epoch 11/200\n",
      "\u001b[1m72/72\u001b[0m \u001b[32m━━━━━━━━━━━━━━━━━━━━\u001b[0m\u001b[37m\u001b[0m \u001b[1m19s\u001b[0m 239ms/step - accuracy: 0.8583 - loss: 0.4213 - val_accuracy: 0.5809 - val_loss: 2.7556\n",
      "Epoch 11: early stopping\n"
     ]
    }
   ],
   "source": [
    "train_datagen = tf.keras.preprocessing.image.ImageDataGenerator(\n",
    "        rescale=1./255,\n",
    "        shear_range=0.2,\n",
    "        zoom_range=0.2,\n",
    "        horizontal_flip=True)\n",
    "test_datagen = tf.keras.preprocessing.image.ImageDataGenerator(rescale=1./255)\n",
    "\n",
    "history = model.fit(\n",
    "        train_ds,\n",
    "        epochs=Params.EPOCHS,\n",
    "        callbacks = [tf.keras.callbacks.EarlyStopping(patience = 5, verbose = 2)],\n",
    "        validation_data=val_ds)"
   ]
  },
  {
   "cell_type": "code",
   "execution_count": 22,
   "metadata": {},
   "outputs": [],
   "source": [
    "def plot_history(history):\n",
    "    acc = history.history['accuracy']\n",
    "    val_acc = history.history['val_accuracy']\n",
    "\n",
    "    loss = history.history['loss']\n",
    "    val_loss = history.history['val_loss']\n",
    "\n",
    "    epochs_range = range(Params.Epochs)\n",
    "\n",
    "    plt.figure(figsize=(8, 8))\n",
    "    plt.subplot(1, 2, 1)\n",
    "    plt.plot(epochs_range, acc, label='Training Accuracy')\n",
    "    plt.plot(epochs_range, val_acc, label='Validation Accuracy')\n",
    "    plt.legend(loc='lower right')\n",
    "    plt.title('Training and Validation Accuracy')\n",
    "\n",
    "    plt.subplot(1, 2, 2)\n",
    "    plt.plot(epochs_range, loss, label='Training Loss')\n",
    "    plt.plot(epochs_range, val_loss, label='Validation Loss')\n",
    "    plt.legend(loc='upper right')\n",
    "    plt.title('Training and Validation Loss')\n",
    "    plt.show()"
   ]
  },
  {
   "cell_type": "code",
   "execution_count": 23,
   "metadata": {},
   "outputs": [
    {
     "ename": "NameError",
     "evalue": "name 'epochs' is not defined",
     "output_type": "error",
     "traceback": [
      "\u001b[0;31m---------------------------------------------------------------------------\u001b[0m",
      "\u001b[0;31mNameError\u001b[0m                                 Traceback (most recent call last)",
      "Cell \u001b[0;32mIn[23], line 1\u001b[0m\n\u001b[0;32m----> 1\u001b[0m \u001b[43mplot_history\u001b[49m\u001b[43m(\u001b[49m\u001b[43mhistory\u001b[49m\u001b[43m)\u001b[49m\n",
      "Cell \u001b[0;32mIn[22], line 8\u001b[0m, in \u001b[0;36mplot_history\u001b[0;34m(history)\u001b[0m\n\u001b[1;32m      5\u001b[0m loss \u001b[38;5;241m=\u001b[39m history\u001b[38;5;241m.\u001b[39mhistory[\u001b[38;5;124m'\u001b[39m\u001b[38;5;124mloss\u001b[39m\u001b[38;5;124m'\u001b[39m]\n\u001b[1;32m      6\u001b[0m val_loss \u001b[38;5;241m=\u001b[39m history\u001b[38;5;241m.\u001b[39mhistory[\u001b[38;5;124m'\u001b[39m\u001b[38;5;124mval_loss\u001b[39m\u001b[38;5;124m'\u001b[39m]\n\u001b[0;32m----> 8\u001b[0m epochs_range \u001b[38;5;241m=\u001b[39m \u001b[38;5;28mrange\u001b[39m(\u001b[43mepochs\u001b[49m)\n\u001b[1;32m     10\u001b[0m plt\u001b[38;5;241m.\u001b[39mfigure(figsize\u001b[38;5;241m=\u001b[39m(\u001b[38;5;241m8\u001b[39m, \u001b[38;5;241m8\u001b[39m))\n\u001b[1;32m     11\u001b[0m plt\u001b[38;5;241m.\u001b[39msubplot(\u001b[38;5;241m1\u001b[39m, \u001b[38;5;241m2\u001b[39m, \u001b[38;5;241m1\u001b[39m)\n",
      "\u001b[0;31mNameError\u001b[0m: name 'epochs' is not defined"
     ]
    }
   ],
   "source": [
    "plot_history(history)"
   ]
  },
  {
   "cell_type": "code",
   "execution_count": 20,
   "metadata": {},
   "outputs": [
    {
     "name": "stdout",
     "output_type": "stream",
     "text": [
      "\u001b[1m10/10\u001b[0m \u001b[32m━━━━━━━━━━━━━━━━━━━━\u001b[0m\u001b[37m\u001b[0m \u001b[1m2s\u001b[0m 52ms/step - accuracy: 0.5726 - loss: 2.3924\n"
     ]
    }
   ],
   "source": [
    "result = model.evaluate(test_ds)"
   ]
  },
  {
   "cell_type": "code",
   "execution_count": 21,
   "metadata": {},
   "outputs": [
    {
     "data": {
      "text/plain": [
       "[2.525519371032715, 0.559374988079071]"
      ]
     },
     "execution_count": 21,
     "metadata": {},
     "output_type": "execute_result"
    }
   ],
   "source": []
  },
  {
   "cell_type": "code",
   "execution_count": null,
   "metadata": {},
   "outputs": [],
   "source": []
  }
 ],
 "metadata": {
  "kernelspec": {
   "display_name": "globalEnv",
   "language": "python",
   "name": "python3"
  },
  "language_info": {
   "codemirror_mode": {
    "name": "ipython",
    "version": 3
   },
   "file_extension": ".py",
   "mimetype": "text/x-python",
   "name": "python",
   "nbconvert_exporter": "python",
   "pygments_lexer": "ipython3",
   "version": "3.11.5"
  }
 },
 "nbformat": 4,
 "nbformat_minor": 2
}
